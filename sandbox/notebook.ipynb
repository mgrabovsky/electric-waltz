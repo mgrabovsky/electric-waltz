{
 "cells": [
  {
   "cell_type": "markdown",
   "id": "e2efe311-cd45-469d-9f6e-cde09cdebf52",
   "metadata": {},
   "source": [
    "# Electric Waltz"
   ]
  },
  {
   "cell_type": "markdown",
   "id": "b61e4fb3-5a0f-410c-b063-497add35dc21",
   "metadata": {},
   "source": [
    "## Imports"
   ]
  },
  {
   "cell_type": "code",
   "execution_count": null,
   "id": "68d700ff-4824-4fce-88d0-c52b3910ea29",
   "metadata": {},
   "outputs": [],
   "source": [
    "# Standard imports\n",
    "\n",
    "import csv\n",
    "from typing import cast, Optional, Sequence\n",
    "\n",
    "from pandas import DataFrame, read_csv\n",
    "from ruamel.yaml import YAML"
   ]
  },
  {
   "cell_type": "code",
   "execution_count": null,
   "id": "b1d8520e-93c1-47e5-9b34-5224d47c0ce7",
   "metadata": {},
   "outputs": [],
   "source": [
    "# Add parent dir to the path, so we can load the module\n",
    "\n",
    "import os, sys\n",
    "sys.path.append(os.path.dirname(os.path.abspath('')))"
   ]
  },
  {
   "cell_type": "code",
   "execution_count": null,
   "id": "4c49dd5a-adc5-482b-8eee-e60cc088cb37",
   "metadata": {},
   "outputs": [],
   "source": [
    "# Load stuff from the module\n",
    "\n",
    "from electric_waltz.cross_border import CrossBorderTerminal\n",
    "from electric_waltz.dispatch import SourceDispatcher, StorageDispatcher\n",
    "from electric_waltz.scenario import Scenario, ScenarioRun\n",
    "from electric_waltz.source import (\n",
    "    DispatchableSource,\n",
    "    NonDispatchableSource,\n",
    "    PowerSource,\n",
    ")\n",
    "from electric_waltz.storage import EnergyStorage\n",
    "from electric_waltz.types import Energy, Power"
   ]
  },
  {
   "cell_type": "code",
   "execution_count": null,
   "id": "eab5077e-3858-4369-8fbc-4847b762766b",
   "metadata": {},
   "outputs": [],
   "source": [
    "# Load some helper functions from main script, to avoid code duplicities\n",
    "\n",
    "from main import make_power_plant, make_storage"
   ]
  },
  {
   "cell_type": "markdown",
   "id": "d036ff07-890e-422b-b1be-36315f6bc587",
   "metadata": {},
   "source": [
    "## Parameters"
   ]
  },
  {
   "cell_type": "code",
   "execution_count": null,
   "id": "576ea695-e6af-490a-b888-605654594343",
   "metadata": {},
   "outputs": [],
   "source": [
    "input_path = 'input_data.csv'\n",
    "config_path = 'config.yml'\n",
    "output_path = 'model_output.csv'"
   ]
  },
  {
   "cell_type": "code",
   "execution_count": null,
   "id": "688029af-0b40-40d5-8768-018ab7617ad5",
   "metadata": {},
   "outputs": [],
   "source": [
    "world = read_csv(input_path)"
   ]
  },
  {
   "cell_type": "code",
   "execution_count": null,
   "id": "436500e5-cb24-40c5-8cde-cc3839ddb100",
   "metadata": {},
   "outputs": [],
   "source": [
    "with open(config_path, encoding=\"utf-8\") as config_file:\n",
    "    yaml = YAML(typ=\"safe\")\n",
    "    config = yaml.load(config_file)"
   ]
  },
  {
   "cell_type": "code",
   "execution_count": null,
   "id": "4b6af44d-231c-48dd-8cf1-18f81b413089",
   "metadata": {},
   "outputs": [],
   "source": [
    "world.head()"
   ]
  },
  {
   "cell_type": "code",
   "execution_count": null,
   "id": "dacfdbb3-37cc-4a0a-99b5-7b9902d4564b",
   "metadata": {},
   "outputs": [],
   "source": [
    "config"
   ]
  },
  {
   "cell_type": "markdown",
   "id": "1d47bff4-f2e1-46dd-8d72-0ed7ec7de280",
   "metadata": {},
   "source": [
    "## Simulation"
   ]
  },
  {
   "cell_type": "code",
   "execution_count": null,
   "id": "1d82cdd2-dd2c-43bb-b67c-429d65f0f120",
   "metadata": {},
   "outputs": [],
   "source": [
    "if \"load_multiplier\" in config[\"consumption\"]:\n",
    "    load_multiplier = float(config[\"consumption\"][\"load_multiplier\"])\n",
    "    world.load *= load_multiplier\n",
    "\n",
    "grid_losses: float = (\n",
    "    config[\"consumption\"][\"transmission_loss\"]\n",
    "    + config[\"consumption\"][\"distribution_loss\"]\n",
    ")\n",
    "\n",
    "# Inflexible power plants.\n",
    "nuclear = cast(NonDispatchableSource, make_power_plant(\"nuclear\", config))\n",
    "pv = cast(NonDispatchableSource, make_power_plant(\"pv\", config))\n",
    "wind = cast(NonDispatchableSource, make_power_plant(\"wind\", config))\n",
    "\n",
    "# Flexible power plants.\n",
    "hydro = cast(DispatchableSource, make_power_plant(\"hydro\", config))\n",
    "biomass = cast(DispatchableSource, make_power_plant(\"biomass\", config))\n",
    "gas = cast(DispatchableSource, make_power_plant(\"gas\", config))\n",
    "\n",
    "# Electricity storage.\n",
    "pumped = make_storage(\"pumped\", config)\n",
    "battery = make_storage(\"battery\", config)\n",
    "p2g = make_storage(\"p2g\", config)\n",
    "\n",
    "# Cross-border import/export.\n",
    "cross_border = CrossBorderTerminal(config[\"cross_border\"][\"max_export\"])"
   ]
  },
  {
   "cell_type": "code",
   "execution_count": null,
   "id": "e5c69057-a059-49ea-bfbd-d741bf052e81",
   "metadata": {},
   "outputs": [],
   "source": [
    "# Construct the scenario object and run the simulation.\n",
    "scenario = Scenario(\n",
    "    load=world.load,\n",
    "    baseload_sources=[nuclear],\n",
    "    intermittent_sources=[\n",
    "        (pv, world.solar_util),\n",
    "        (wind, world.wind_util),\n",
    "    ],\n",
    "    flexible_sources=[hydro, biomass, gas],\n",
    "    storage_units=[pumped, battery, p2g],\n",
    "    cross_border=cross_border,\n",
    "    grid_losses=grid_losses,\n",
    ")\n",
    "\n",
    "stats = scenario.run()"
   ]
  },
  {
   "cell_type": "code",
   "execution_count": null,
   "id": "a7d1591e-8142-4ef1-9c91-a8c40e0249f0",
   "metadata": {},
   "outputs": [],
   "source": [
    "total_consumption = sum(world.load)\n",
    "total_flexible_generation = (\n",
    "    stats.compute_generation(\"hydro\")\n",
    "    + stats.compute_generation(\"biomass\")\n",
    "    + stats.compute_generation(\"gas\")\n",
    ")\n",
    "total_inflexible_generation = (\n",
    "    stats.compute_generation(\"nuclear\")\n",
    "    + stats.compute_generation(\"pv\")\n",
    "    + stats.compute_generation(\"wind\")\n",
    ")\n",
    "total_generation = total_flexible_generation + total_inflexible_generation\n",
    "\n",
    "total_charging = stats.compute_total_charging()\n",
    "total_discharging = stats.compute_total_discharging()\n",
    "\n",
    "total_export = stats.compute_total_export()\n",
    "total_import = stats.compute_total_import()\n",
    "\n",
    "total_dump = stats.compute_total_dump()\n",
    "total_shortage = stats.compute_total_shortage()\n",
    "\n",
    "charging_hours = stats.count_charging_steps()\n",
    "discharging_hours = stats.count_discharging_steps()\n",
    "export_hours = stats.count_export_steps()\n",
    "import_hours = stats.count_import_steps()\n",
    "dump_hours = stats.count_dump_steps()\n",
    "shortage_hours = stats.count_shortage_steps()\n",
    "\n",
    "print(f\"Total net generation         {total_generation:12,.0f} MWh\")\n",
    "print(f\"├─ Total inflexible          {total_inflexible_generation:12,.0f}\")\n",
    "print(\"│  ├─ Nuclear                {:12,.0f}\".format(stats.compute_generation(\"nuclear\")))\n",
    "print(\"│  ├─ Solar PV               {:12,.0f}\".format(stats.compute_generation(\"pv\")))\n",
    "print(\"│  └─ On-shore wind          {:12,.0f}\".format(stats.compute_generation(\"wind\")))\n",
    "print(f\"└─ Total flexible            {total_flexible_generation:12,.0f}\")\n",
    "print(\"   ├─ Hydro                  {:12,.0f}\".format(stats.compute_generation(\"hydro\")))\n",
    "print(\"   ├─ Biomass                {:12,.0f}\".format(stats.compute_generation(\"biomass\")))\n",
    "print(\"   └─ Natural gas            {:12,.0f}\".format(stats.compute_generation(\"gas\")))\n",
    "\n",
    "print(f\"\\nTotal charging consumption   {total_charging:12,.0f} MWh \"\n",
    "      f\"{charging_hours:6d} hrs\")\n",
    "print(f\"Total discharging            {total_discharging:12,.0f}     \"\n",
    "      f\"{discharging_hours:6d} hrs\")\n",
    "print(f\"\\nTotal export                 {total_export:12,.0f}     \"\n",
    "      f\"{export_hours:6d} hrs\")\n",
    "print(f\"Total import                 {total_import:12,.0f}     \"\n",
    "      f\"{import_hours:6d} hrs\")\n",
    "print(f\"Import balance               {total_import-total_export:12,.0f}\")\n",
    "\n",
    "print(f\"\\nTotal surplus/dump           {total_dump:12,.0f}     \"\n",
    "      f\"{dump_hours:6d} hrs\")\n",
    "print(f\"Total shortage (EENS/LOLE)   {total_shortage:12,.0f}     \"\n",
    "      f\"{shortage_hours:6d} hrs\")\n",
    "\n",
    "print(f\"\\nTotal net consumption        {total_consumption:12,.0f} MWh\")\n",
    "\n",
    "breakpoint\n",
    "\n",
    "model_output = DataFrame(data={\n",
    "    \"nuclear\": stats._source_generation[\"nuclear\"],\n",
    "    \"pv\": stats._source_generation[\"pv\"],\n",
    "    \"wind\": stats._source_generation[\"wind\"],\n",
    "    \"biomass\": stats._source_generation[\"biomass\"],\n",
    "    \"hydro\": stats._source_generation[\"hydro\"],\n",
    "    \"gas\": stats._source_generation[\"gas\"],\n",
    "    \"pumped\": stats._storage_output[\"pumped\"],\n",
    "    \"battery\": stats._storage_output[\"battery\"],\n",
    "    \"p2g\": stats._storage_output[\"p2g\"],\n",
    "    \"import\": stats._net_import,\n",
    "    \"shortage\": stats._shortage,\n",
    "})\n",
    "model_output.to_csv(output_path, index_label=\"ix\")\n",
    "\n",
    "print(f\"\\nModel output written to ‘sandbox/{output_path}’\")"
   ]
  },
  {
   "cell_type": "markdown",
   "id": "b675903b-279b-45d3-ac6f-68c432a7fe52",
   "metadata": {},
   "source": [
    "## Report"
   ]
  },
  {
   "cell_type": "markdown",
   "id": "83cb79f9-a5a6-43a9-9d41-7965b8e6469e",
   "metadata": {},
   "source": [
    "Měli bychom přidat `matplotlib` a `seaborn` do requirements.txt? A možná i `jupyterlab`?"
   ]
  },
  {
   "cell_type": "code",
   "execution_count": null,
   "id": "3d50abb7-e55a-45c1-ba51-a797c047428a",
   "metadata": {},
   "outputs": [],
   "source": [
    "!pip install matplotlib\n",
    "!pip install seaborn"
   ]
  },
  {
   "cell_type": "code",
   "execution_count": null,
   "id": "87bbd4dc-146c-4082-9a68-fb9c70388372",
   "metadata": {},
   "outputs": [],
   "source": [
    "import numpy as np\n",
    "import pandas as pd\n",
    "import matplotlib as mpl\n",
    "import matplotlib.pyplot as plt\n",
    "import seaborn as sns\n",
    "\n",
    "plt.rcParams['figure.dpi'] = 100\n",
    "plt.rcParams['figure.figsize'] = 12, 8"
   ]
  },
  {
   "cell_type": "code",
   "execution_count": null,
   "id": "aa07a99a-9786-4afd-8c6c-99748ec9820c",
   "metadata": {},
   "outputs": [],
   "source": [
    "df = pd.concat([world, model_output], axis=1)"
   ]
  },
  {
   "cell_type": "code",
   "execution_count": null,
   "id": "ccd47a98-73a9-458e-a57c-37dc5e9cfecd",
   "metadata": {},
   "outputs": [],
   "source": [
    "# df['dt'] = df.index * pd.Timedelta(hours=1) + pd.Timestamp('00:00:00 2050-01-01')\n",
    "df['dt'] = pd.to_datetime(df['datetime'])\n",
    "df['storage'] = df['pumped'] + df['battery'] + df['p2g']\n",
    "df = df.set_index('dt')"
   ]
  },
  {
   "cell_type": "code",
   "execution_count": null,
   "id": "702d8c5c-e014-4070-87c3-77e30ae668aa",
   "metadata": {},
   "outputs": [],
   "source": [
    "df.head()"
   ]
  },
  {
   "cell_type": "code",
   "execution_count": null,
   "id": "bd3ed99d-a2ce-49cb-8ff1-a1aee5466566",
   "metadata": {},
   "outputs": [],
   "source": [
    "df['import_plus'] = np.maximum(df['import'], 0)\n",
    "df['import_minus'] = np.minimum(df['import'], 0)\n",
    "\n",
    "df['storage_plus'] = np.maximum(df['storage'], 0)\n",
    "df['storage_minus'] = np.minimum(df['storage'], 0)\n",
    "\n",
    "df['shortage_plus'] = np.maximum(df['shortage'], 0)\n",
    "df['shortage_minus'] = np.minimum(df['shortage'], 0)"
   ]
  },
  {
   "cell_type": "code",
   "execution_count": null,
   "id": "b994be19-a566-4fbd-ad28-c8f6afcdd2b4",
   "metadata": {},
   "outputs": [],
   "source": [
    "var1 = ['nuclear', 'gas', 'pv', 'wind', 'biomass', 'hydro']\n",
    "var2 = ['import', 'storage', 'shortage']\n",
    "var2_plus = [x + '_plus' for x in var2]\n",
    "var2_minus = [x + '_minus' for x in var2]\n",
    "labels1 = ['Nuclear', 'Nat. gas', 'Photovoltaic', 'On-shore wind', 'Biomass', 'Hydro']\n",
    "labels2 = ['Import/export', 'Storage dis/charging', 'Shortage/dump']\n",
    "\n",
    "color_map = {\n",
    "    'nuclear' : 'firebrick',\n",
    "    'pv' : 'gold',\n",
    "    'wind' : '#223966',\n",
    "    'biomass' :'#8ea277',\n",
    "    'hydro' : '#3e5f9f',\n",
    "    'gas' : 'black',\n",
    "    'import' : '#c6c6c6',\n",
    "    'storage' :'#efefef',\n",
    "    'shortage' :'pink'\n",
    "}\n",
    "\n",
    "colors1 = [color_map[x] for x in var1]\n",
    "colors2 = [color_map[x] for x in var2]"
   ]
  },
  {
   "cell_type": "code",
   "execution_count": null,
   "id": "8a8016ca-045b-4d0a-b63e-962b5bc4e67e",
   "metadata": {},
   "outputs": [],
   "source": [
    "df['power'] = df[var1 + var2].sum(axis=1)"
   ]
  },
  {
   "cell_type": "code",
   "execution_count": null,
   "id": "5bb7d214-7276-4567-a752-fb178368b949",
   "metadata": {},
   "outputs": [],
   "source": [
    "def plot_between(start, end):\n",
    "    # convert strings to proper timestamps\n",
    "    start = pd.Timestamp(start, tz='UTC')\n",
    "    end = pd.Timestamp(end, tz='UTC')\n",
    "    \n",
    "    fig, ax = plt.subplots()\n",
    "    \n",
    "    # stackplot has to be separate for positive and negative values, to get the desired results\n",
    "    ax.stackplot(df.loc[start:end].index.values, *df.loc[start:end][var1 + var2_plus].values.T / 1e3, labels=labels1 + labels2, colors=colors1 + colors2)\n",
    "    ax.stackplot(df.loc[start:end].index.values, *df.loc[start:end][var2_minus].values.T / 1e3, labels=labels2, colors=colors2)\n",
    "    ax.set(xlabel='Day of year', ylabel='Instant power (GW)')\n",
    "    ymin, ymax = ax.get_ylim()\n",
    "    \n",
    "    # total power\n",
    "    ax.plot(df.loc[start:end].index, df.loc[start:end]['power'] / 1e3, label='Total', color='black', lw=2)\n",
    "    \n",
    "    # get the correct legend\n",
    "    proxy = [mpl.patches.Rectangle((0,0), 0,0, facecolor=c) for c in colors1 + colors2]\n",
    "    black_line = mpl.lines.Line2D([], [], color='black', lw=2)\n",
    "    ax.legend(proxy + [black_line], labels1 + labels2 + ['Total power'], loc='upper left', bbox_to_anchor=(0.01, 1), ncol=5)\n",
    "    \n",
    "    # create space for legend\n",
    "    offset = 0.1 * (ymax - ymin)\n",
    "    ax.set_ylim((ymin, ymax + offset))"
   ]
  },
  {
   "cell_type": "code",
   "execution_count": null,
   "id": "2efd8e8b-595e-47e0-8c00-e833c9c015f7",
   "metadata": {},
   "outputs": [],
   "source": [
    "plot_between('2021-01-01', '2021-01-15')"
   ]
  },
  {
   "cell_type": "code",
   "execution_count": null,
   "id": "29f3d461-14ed-404f-a421-f30bde98bf22",
   "metadata": {},
   "outputs": [],
   "source": [
    "plot_between('2021-07-01', '2021-07-15')"
   ]
  },
  {
   "cell_type": "code",
   "execution_count": null,
   "id": "8146f6da-09ce-46ae-b283-df11ff7894c0",
   "metadata": {},
   "outputs": [],
   "source": []
  }
 ],
 "metadata": {
  "kernelspec": {
   "display_name": "Python 3 (ipykernel)",
   "language": "python",
   "name": "python3"
  },
  "language_info": {
   "codemirror_mode": {
    "name": "ipython",
    "version": 3
   },
   "file_extension": ".py",
   "mimetype": "text/x-python",
   "name": "python",
   "nbconvert_exporter": "python",
   "pygments_lexer": "ipython3",
   "version": "3.8.10"
  }
 },
 "nbformat": 4,
 "nbformat_minor": 5
}
